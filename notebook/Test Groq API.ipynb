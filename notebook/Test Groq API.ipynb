{
 "cells": [
  {
   "cell_type": "markdown",
   "id": "42ecbe50",
   "metadata": {},
   "source": [
    "-  ทดสอบการทำงานของ  Groq LLM API"
   ]
  },
  {
   "cell_type": "code",
   "execution_count": 27,
   "id": "de785a4d",
   "metadata": {},
   "outputs": [],
   "source": [
    "!pip install groq -q \n",
    "\n",
    "!pip install python-dotenv  -q "
   ]
  },
  {
   "cell_type": "markdown",
   "id": "5b9a6443",
   "metadata": {},
   "source": [
    "- code การทำงาน"
   ]
  },
  {
   "cell_type": "code",
   "execution_count": 1,
   "id": "a01de55a",
   "metadata": {},
   "outputs": [
    {
     "name": "stdout",
     "output_type": "stream",
     "text": [
      "โมเดลภาษาขนาดใหญ่ (Large Language Model) คือ โครงข่ายประสาทเทียมที่ถูกออกแบบมาเพื่อประมวลผลและการสร้างภาษาที่สูง ซึ่งสามารถเรียนรู้และทำความเข้าใจภาษาได้อย่างธรรมชาติ โมเดลเหล่านี้ต้องการข้อมูลฝึกอบรมขนาดใหญ่และความสามารถในการประมวลผลที่สูง เพื่อให้สามารถเรียนรู้รูปแบบและโครงสร้างของภาษาได้อย่างแม่นยำ\n",
      "\n",
      "โมเดลภาษาขนาดใหญ่มักถูกใช้ในการประมวลผลภาษาธรรมชาติ (Natural Language Processing) เพื่อทำงานต่างๆ เช่น:\n",
      "\n",
      "* การแปลภาษา (Machine Translation)\n",
      "* การสร้างภาษา (Language Generation)\n",
      "* การทำความเข้าใจภาษา (Language Understanding)\n",
      "* การจัดหมวดหมู่ข้อความ (Text Classification)\n",
      "* การค้นหาข้อมูล (Information Retrieval)\n",
      "\n",
      "โมเดลภาษาขนาดใหญ่บางตัวที่มีชื่อเสียง ได้แก่:\n",
      "\n",
      "* BERT (Bidirectional Encoder Representations from Transformers)\n",
      "* RoBERTa (Robustly Optimized BERT Pretraining Approach)\n",
      "* transformer-XL (Transformer-XL: Attentive Language Models Beyond a Fixed-Length Context)\n",
      "\n",
      "โมเดลเหล่านี้สามารถเรียนรู้และปรับปรุงได้อย่างต่อเนื่อง เมื่อได้รับข้อมูลฝึกอบรมใหม่ๆ ทำให้สามารถปรับปรุงความสามารถในการประมวลผลภาษาของโมเดลได้อย่างต่อเนื่อง\n",
      "\n",
      "อย่างไรก็ตาม โมเดลภาษาขนาดใหญ่ก็มีข้อจำกัดและความเสี่ยงบางประการ เช่น:\n",
      "\n",
      "* ความต้องการข้อมูลฝึกอบรมขนาดใหญ่และความสามารถในการประมวลผลที่สูง\n",
      "* ความเสี่ยงต่อการเกิดอคติ (Bias) และความไม่เท่าเทียม (Inequality) ในข้อมูลฝึกอบรม\n",
      "* ความเสี่ยงต่อการถูกโจมตีโดยการโจมตีด้วยข้อมูลที่ถูกสร้างมา (Adversarial Attack)\n",
      "\n",
      "ดังนั้น การพัฒนาและใช้โมเดลภาษาขนาดใหญ่จึงต้องได้รับการพิจารณาอย่างรอบคอบและระมัดระวัง เพื่อให้สามารถใช้งานได้อย่างมีประสิทธิภาพและปลอดภัย\n"
     ]
    }
   ],
   "source": [
    "# imoort  os \n",
    "import os\n",
    "\n",
    "# import groq  \n",
    "from groq import Groq\n",
    "\n",
    "# dotenv \n",
    "from dotenv import load_dotenv\n",
    "\n",
    "load_dotenv()  \n",
    "GROQ_API_KEY = os.getenv(\"GROQ_API_KEY\")\n",
    "\n",
    "# creat \n",
    "client = Groq(\n",
    "    api_key=os.environ.get(\"GROQ_API_KEY\"),\n",
    ")\n",
    "\n",
    "chat_completion = client.chat.completions.create(\n",
    "    messages=[\n",
    "        {\n",
    "            \"role\": \"user\",\n",
    "            \"content\": \"Explain Large Language Model   in  Thai language\",\n",
    "        }\n",
    "    ],\n",
    "    model=\"llama-3.3-70b-versatile\",\n",
    ")\n",
    "\n",
    "print(chat_completion.choices[0].message.content)  "
   ]
  }
 ],
 "metadata": {
  "kernelspec": {
   "display_name": ".venv",
   "language": "python",
   "name": "python3"
  },
  "language_info": {
   "codemirror_mode": {
    "name": "ipython",
    "version": 3
   },
   "file_extension": ".py",
   "mimetype": "text/x-python",
   "name": "python",
   "nbconvert_exporter": "python",
   "pygments_lexer": "ipython3",
   "version": "3.10.0"
  }
 },
 "nbformat": 4,
 "nbformat_minor": 5
}
