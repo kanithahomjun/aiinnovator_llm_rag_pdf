{
 "cells": [
  {
   "cell_type": "markdown",
   "id": "36d5e586",
   "metadata": {},
   "source": [
    "### Chat models"
   ]
  },
  {
   "cell_type": "markdown",
   "id": "b4a370cd",
   "metadata": {},
   "source": [
    "- Chat models are language models that use a sequence of messages as inputs and return messages as outputs (as opposed to using plain text). \n",
    "- These are generally newer models."
   ]
  },
  {
   "cell_type": "markdown",
   "id": "27649e0d",
   "metadata": {},
   "source": [
    "ref :[introduction LangChain ](https://python.langchain.com/docs/introduction/)"
   ]
  },
  {
   "cell_type": "code",
   "execution_count": null,
   "id": "e06761ac",
   "metadata": {},
   "outputs": [],
   "source": [
    "!pip install -qU \"langchain[groq]\" -q  \n",
    "\n",
    "!pip install python-dotenv -q "
   ]
  },
  {
   "cell_type": "code",
   "execution_count": null,
   "id": "a517d500",
   "metadata": {},
   "outputs": [],
   "source": [
    "import  os \n",
    "from dotenv import load_dotenv\n",
    "\n",
    "load_dotenv()  \n",
    "GROQ_API_KEY = os.getenv(\"GROQ_API_KEY\")"
   ]
  },
  {
   "cell_type": "code",
   "execution_count": null,
   "id": "94cd4c0c",
   "metadata": {},
   "outputs": [],
   "source": [
    "from langchain.chat_models import init_chat_model\n",
    "from langchain_core.messages import HumanMessage\n",
    "\n",
    "if not os.environ.get(\"GROQ_API_KEY\"):\n",
    "    print(\"can not  use  API  KEY \")\n",
    "\n",
    "from langchain.chat_models import init_chat_model\n",
    "\n",
    "model = init_chat_model(\"llama3-8b-8192\", model_provider=\"groq\")"
   ]
  },
  {
   "cell_type": "code",
   "execution_count": 34,
   "id": "bc558d32",
   "metadata": {},
   "outputs": [
    {
     "data": {
      "text/plain": [
       "AIMessage(content='สวัสดี (Sawatdee) !', additional_kwargs={}, response_metadata={'token_usage': {'completion_tokens': 11, 'prompt_tokens': 15, 'total_tokens': 26, 'completion_time': 0.009166667, 'prompt_time': 0.002416901, 'queue_time': 0.021727378000000002, 'total_time': 0.011583568}, 'model_name': 'llama3-8b-8192', 'system_fingerprint': 'fp_dadc9d6142', 'finish_reason': 'stop', 'logprobs': None}, id='run--f410a3f8-6460-475e-b668-1039edd6298a-0', usage_metadata={'input_tokens': 15, 'output_tokens': 11, 'total_tokens': 26})"
      ]
     },
     "execution_count": 34,
     "metadata": {},
     "output_type": "execute_result"
    }
   ],
   "source": [
    "model.invoke(\"Hello, in Thai language\")"
   ]
  },
  {
   "cell_type": "code",
   "execution_count": 35,
   "id": "0c8170d9",
   "metadata": {},
   "outputs": [],
   "source": [
    "# Send message\n",
    "response = model.invoke([\n",
    "    HumanMessage(content=\"Hello, in Thai language\")\n",
    "])"
   ]
  },
  {
   "cell_type": "code",
   "execution_count": 38,
   "id": "4ad1d780",
   "metadata": {},
   "outputs": [
    {
     "data": {
      "text/plain": [
       "'สวัสดี (Sawatdee)'"
      ]
     },
     "execution_count": 38,
     "metadata": {},
     "output_type": "execute_result"
    }
   ],
   "source": [
    "response.content"
   ]
  }
 ],
 "metadata": {
  "kernelspec": {
   "display_name": ".venv",
   "language": "python",
   "name": "python3"
  },
  "language_info": {
   "codemirror_mode": {
    "name": "ipython",
    "version": 3
   },
   "file_extension": ".py",
   "mimetype": "text/x-python",
   "name": "python",
   "nbconvert_exporter": "python",
   "pygments_lexer": "ipython3",
   "version": "3.10.0"
  }
 },
 "nbformat": 4,
 "nbformat_minor": 5
}
