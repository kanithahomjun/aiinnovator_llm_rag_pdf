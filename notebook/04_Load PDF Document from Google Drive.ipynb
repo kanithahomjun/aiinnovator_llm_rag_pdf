{
 "cells": [
  {
   "cell_type": "markdown",
   "id": "7dbe868b",
   "metadata": {},
   "source": [
    "### Load PDF Document from Google Drive"
   ]
  },
  {
   "cell_type": "code",
   "execution_count": 2,
   "id": "5c28be84",
   "metadata": {},
   "outputs": [],
   "source": [
    "!pip install gdown -q \n",
    "!pip install groq  -q\n",
    "!pip install qdrant-client -q\n",
    "!pip install sentence-transformers -q\n",
    "!pip install langchain -q\n",
    "!pip install pypdf  -q "
   ]
  },
  {
   "cell_type": "code",
   "execution_count": 3,
   "id": "2cd834ea",
   "metadata": {},
   "outputs": [
    {
     "name": "stderr",
     "output_type": "stream",
     "text": [
      "/home/game/ai_innovator_llm_rag/.venv/lib/python3.10/site-packages/tqdm/auto.py:21: TqdmWarning: IProgress not found. Please update jupyter and ipywidgets. See https://ipywidgets.readthedocs.io/en/stable/user_install.html\n",
      "  from .autonotebook import tqdm as notebook_tqdm\n"
     ]
    }
   ],
   "source": [
    "import os\n",
    "import gdown\n",
    "from groq import Groq\n",
    "from qdrant_client import QdrantClient\n",
    "from qdrant_client.models import PointStruct\n",
    "from sentence_transformers import SentenceTransformer\n",
    "from langchain.document_loaders import PyPDFLoader\n",
    "from langchain.text_splitter import CharacterTextSplitter\n",
    "from langchain.embeddings import HuggingFaceEmbeddings\n",
    "from dotenv import load_dotenv"
   ]
  },
  {
   "cell_type": "code",
   "execution_count": 4,
   "id": "008c722a",
   "metadata": {},
   "outputs": [],
   "source": [
    "load_dotenv('.env')  \n",
    "GROQ_API_KEY = os.getenv(\"GROQ_API_KEY\")\n",
    "PDF_ID = os.getenv(\"PDF_ID\")"
   ]
  },
  {
   "cell_type": "code",
   "execution_count": 5,
   "id": "b6361d7c",
   "metadata": {},
   "outputs": [
    {
     "name": "stderr",
     "output_type": "stream",
     "text": [
      "Downloading...\n",
      "From: https://drive.google.com/uc?id=1Tlf5jxYlvScKUAhNkUxYDkWrcXp1gEIM\n",
      "To: /home/game/ai_innovator_llm_rag/notebook/dataset/downloaded_document.pdf\n",
      "100%|██████████| 88.2k/88.2k [00:00<00:00, 1.08MB/s]\n"
     ]
    },
    {
     "data": {
      "text/plain": [
       "'./dataset/downloaded_document.pdf'"
      ]
     },
     "execution_count": 5,
     "metadata": {},
     "output_type": "execute_result"
    }
   ],
   "source": [
    "# Google Drive PDF file ID\n",
    "pdf_id = PDF_ID  \n",
    "\n",
    "# Destination path for the downloaded PDF\n",
    "pdf_path = \"./dataset/downloaded_document.pdf\"  \n",
    "\n",
    "# Download the PDF file from Google Drive\n",
    "gdown.download(f\"https://drive.google.com/uc?id={pdf_id}\", pdf_path, quiet=False)"
   ]
  },
  {
   "cell_type": "code",
   "execution_count": 6,
   "id": "4a33a3bd",
   "metadata": {},
   "outputs": [
    {
     "name": "stderr",
     "output_type": "stream",
     "text": [
      "/tmp/ipykernel_51062/1551404959.py:2: LangChainDeprecationWarning: The class `HuggingFaceEmbeddings` was deprecated in LangChain 0.2.2 and will be removed in 1.0. An updated version of the class exists in the :class:`~langchain-huggingface package and should be used instead. To use it run `pip install -U :class:`~langchain-huggingface` and import as `from :class:`~langchain_huggingface import HuggingFaceEmbeddings``.\n",
      "  embedding_model = HuggingFaceEmbeddings(model_name=\"sentence-transformers/all-MiniLM-L6-v2\")\n"
     ]
    }
   ],
   "source": [
    "# Initialize embedding model using Sentence Transformers\n",
    "embedding_model = HuggingFaceEmbeddings(model_name=\"sentence-transformers/all-MiniLM-L6-v2\")\n",
    "vector_size = embedding_model.embed_query(\"test\").__len__()"
   ]
  },
  {
   "cell_type": "code",
   "execution_count": 7,
   "id": "a7a82382",
   "metadata": {},
   "outputs": [
    {
     "name": "stderr",
     "output_type": "stream",
     "text": [
      "/tmp/ipykernel_51062/4230452278.py:5: DeprecationWarning: `recreate_collection` method is deprecated and will be removed in the future. Use `collection_exists` to check collection existence and `create_collection` instead.\n",
      "  qdrant.recreate_collection(\n"
     ]
    },
    {
     "data": {
      "text/plain": [
       "True"
      ]
     },
     "execution_count": 7,
     "metadata": {},
     "output_type": "execute_result"
    }
   ],
   "source": [
    "# Initialize Qdrant Client (using in-memory or adjust to your needs)\n",
    "qdrant = QdrantClient(\":memory:\")\n",
    "\n",
    "# Create a Qdrant collection to hold document vectors\n",
    "qdrant.recreate_collection(\n",
    "    collection_name=\"documents\",\n",
    "    vectors_config={\"size\": vector_size, \"distance\": \"Cosine\"}\n",
    ")"
   ]
  },
  {
   "cell_type": "code",
   "execution_count": 8,
   "id": "f9e5ac82",
   "metadata": {},
   "outputs": [],
   "source": [
    "# Load PDF document\n",
    "loader = PyPDFLoader(pdf_path) \n",
    "# Load the downloaded PDF\n",
    "documents = loader.load()"
   ]
  },
  {
   "cell_type": "code",
   "execution_count": 9,
   "id": "2da1d4eb",
   "metadata": {},
   "outputs": [
    {
     "data": {
      "text/plain": [
       "UpdateResult(operation_id=0, status=<UpdateStatus.COMPLETED: 'completed'>)"
      ]
     },
     "execution_count": 9,
     "metadata": {},
     "output_type": "execute_result"
    }
   ],
   "source": [
    "# Split the documents into smaller chunks\n",
    "splitter = CharacterTextSplitter(chunk_size=1000, chunk_overlap=200)\n",
    "document_chunks = splitter.split_documents(documents)\n",
    "\n",
    "# Extract text from document chunks\n",
    "texts = [doc.page_content for doc in document_chunks]\n",
    "\n",
    "# Convert texts into vectors\n",
    "vectors = embedding_model.embed_documents(texts)\n",
    "\n",
    "# Upsert data into Qdrant\n",
    "points = [PointStruct(id=i, vector=vectors[i], payload={\"text\": texts[i]}) for i in range(len(texts))]\n",
    "qdrant.upsert(collection_name=\"documents\", points=points)"
   ]
  },
  {
   "cell_type": "code",
   "execution_count": 10,
   "id": "16e69c09",
   "metadata": {},
   "outputs": [],
   "source": [
    "def search_documents(query):\n",
    "    # Convert query to vector\n",
    "    query_vector = embedding_model.embed_query(query)\n",
    "    \n",
    "    # Search Qdrant for similar documents\n",
    "    search_results = qdrant.search(\n",
    "        collection_name=\"documents\",\n",
    "        query_vector=query_vector,\n",
    "        limit=3  # Retrieve top 3 relevant documents\n",
    "    )\n",
    "    \n",
    "    # Check if results are found\n",
    "    if not search_results:\n",
    "        return []  # Return empty if no documents found\n",
    "\n",
    "    # Extract text from results\n",
    "    return [hit.payload.get(\"text\", \"เอกสารไม่มีข้อความ\") for hit in search_results]"
   ]
  },
  {
   "cell_type": "code",
   "execution_count": 11,
   "id": "c53d701a",
   "metadata": {},
   "outputs": [],
   "source": [
    "def generate_answer(query):\n",
    "    # Retrieve relevant documents from Qdrant\n",
    "    retrieved_docs = search_documents(query)\n",
    "    \n",
    "    # Check if any documents were retrieved\n",
    "    if not retrieved_docs:\n",
    "        return \"ไม่พบข้อมูลที่เกี่ยวข้อง\"  # \"No relevant information found\"\n",
    "\n",
    "    # Create the context for the language model\n",
    "    context = \"\\n\".join([str(doc) for doc in retrieved_docs if isinstance(doc, str)])\n",
    "    \n",
    "    if not context.strip():  # Check if context has content\n",
    "        return \"ไม่พบข้อมูลที่เกี่ยวข้อง\"  # \"No relevant information found\"\n",
    "\n",
    "    prompt = f\"ข้อมูลอ้างอิง:\\n{context}\\n\\nคำถาม: {query}\\n\\nคำตอบ:\"\n",
    "    \n",
    "    # Initialize Groq API client\n",
    "    groq_client = Groq(api_key=os.getenv(\"GROQ_API_KEY\"))\n",
    "\n",
    "    try:\n",
    "        # Requesting completion from Groq API\n",
    "        response = groq_client.chat.completions.create(\n",
    "            model=\"llama-3.1-8b-instant\",\n",
    "            messages=[{\"role\": \"user\", \"content\": prompt}]\n",
    "        )\n",
    "        return response.choices[0].message.content\n",
    "    except Exception as e:\n",
    "        return f\"เกิดข้อผิดพลาดในการสร้างคำตอบ: {str(e)}\"  # \"Error occurred in generating the answer\""
   ]
  },
  {
   "cell_type": "code",
   "execution_count": 12,
   "id": "dbcae896",
   "metadata": {},
   "outputs": [
    {
     "name": "stderr",
     "output_type": "stream",
     "text": [
      "/tmp/ipykernel_51062/1751635943.py:6: DeprecationWarning: `search` method is deprecated and will be removed in the future. Use `query_points` instead.\n",
      "  search_results = qdrant.search(\n"
     ]
    },
    {
     "name": "stdout",
     "output_type": "stream",
     "text": [
      "มีรายการที่ 25 รายการ ในใบแจ้งหนังสือยาที่คุณให้มา\n"
     ]
    }
   ],
   "source": [
    "# 🔥 Test the question!\n",
    "query = \"มีรายการอะไรบ้าง\"  # \"What are the contents?\"\n",
    "answer = generate_answer(query)\n",
    "print(answer)"
   ]
  },
  {
   "cell_type": "code",
   "execution_count": 13,
   "id": "5a77df76",
   "metadata": {},
   "outputs": [
    {
     "name": "stderr",
     "output_type": "stream",
     "text": [
      "/tmp/ipykernel_51062/1751635943.py:6: DeprecationWarning: `search` method is deprecated and will be removed in the future. Use `query_points` instead.\n",
      "  search_results = qdrant.search(\n"
     ]
    },
    {
     "name": "stdout",
     "output_type": "stream",
     "text": [
      "ยาภาราเซตามอล (Paracetamol) เป็นยาที่ใช้ในการลดการแพงที่เกิดจากภาวะไข้, อาการปวด, และอาการอ่อนเพลีย มีลักษณะของยาในรูปแบบของเม็ด, สารรักษาโรคประเภทโอปิอิดของต้นไม้และของพรรณไม้ที่ใช้ในการบำบัดปวดท้องและอาการปวดที่มีอาการปวดของกล้ามเนื้อ\n",
      "\n",
      "วิธีการใช้พาราเซตามอล:\n",
      "\n",
      "* สำหรับยาที่ออกตามสูตรผสม: ใช้พาราเซตามอล 500-1000 มิลลิกรัม ทุกๆ 4-6 ชั่วโมง ไม่เกิน 4 ครั้งต่อวัน\n",
      "* สำหรับเด็กอายุ 4-5 ปี: ใช้พาราเซตามอล 250-500 มิลลิกรัม ทุกๆ 4-6 ชั่วโมง ไม่เกิน 4 ครั้งต่อวัน\n",
      "* สำหรับเด็กอายุต่ำกว่า 4 ปี: ห้ามใช้พาราเซตามอลได้\n",
      "\n",
      "ตัวอย่าง: เมื่อคุณมีอาการปวดหรือไข้ คุณสามารถใช้พาราเซตามอลตามคำแนะนำของผู้เชี่ยวชาญหรือตามคำแนะนำบนฉลากของยาได้\n",
      "\n",
      "ระวัง: ห้ามใช้พาราเซตามอลไปแล้ว 4 ชั่วโมงก่อนที่จะต่อสู้กับเครื่องบิน คำแนะนำ: เมื่อคุณใช้พาราเซตามอล ควรใช้น้อยลงเมื่อคุณมีขนาดตัวเล็กขึ้น\n"
     ]
    }
   ],
   "source": [
    "# 🔥 Test the question!\n",
    "query = \"ขอรายอะเอียดของยา  พาราเซตามอล(Paracetamol)\"  \n",
    "answer = generate_answer(query)\n",
    "print(answer)"
   ]
  }
 ],
 "metadata": {
  "kernelspec": {
   "display_name": ".venv",
   "language": "python",
   "name": "python3"
  },
  "language_info": {
   "codemirror_mode": {
    "name": "ipython",
    "version": 3
   },
   "file_extension": ".py",
   "mimetype": "text/x-python",
   "name": "python",
   "nbconvert_exporter": "python",
   "pygments_lexer": "ipython3",
   "version": "3.10.0"
  }
 },
 "nbformat": 4,
 "nbformat_minor": 5
}
