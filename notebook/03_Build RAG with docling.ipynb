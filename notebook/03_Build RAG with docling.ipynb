{
 "cells": [
  {
   "cell_type": "code",
   "execution_count": 3,
   "id": "f483bae5",
   "metadata": {},
   "outputs": [
    {
     "name": "stderr",
     "output_type": "stream",
     "text": [
      "huggingface/tokenizers: The current process just got forked, after parallelism has already been used. Disabling parallelism to avoid deadlocks...\n",
      "To disable this warning, you can either:\n",
      "\t- Avoid using `tokenizers` before the fork if possible\n",
      "\t- Explicitly set the environment variable TOKENIZERS_PARALLELISM=(true | false)\n"
     ]
    }
   ],
   "source": [
    "!pip install docling -q"
   ]
  },
  {
   "cell_type": "code",
   "execution_count": null,
   "id": "f206603e",
   "metadata": {},
   "outputs": [],
   "source": [
    "import os\n",
    "from groq import Groq\n",
    "from qdrant_client import QdrantClient\n",
    "from qdrant_client.models import PointStruct\n",
    "from sentence_transformers import SentenceTransformer\n",
    "from langchain.document_loaders import PyPDFLoader\n",
    "from langchain.text_splitter import CharacterTextSplitter\n",
    "from langchain.embeddings import HuggingFaceEmbeddings\n",
    "from dotenv import load_dotenv"
   ]
  },
  {
   "cell_type": "code",
   "execution_count": 21,
   "id": "39566fda",
   "metadata": {},
   "outputs": [],
   "source": [
    "load_dotenv('.env')  \n",
    "GROQ_API_KEY = os.getenv(\"GROQ_API_KEY\")"
   ]
  },
  {
   "cell_type": "code",
   "execution_count": 2,
   "id": "e5d4fd3d",
   "metadata": {},
   "outputs": [
    {
     "name": "stderr",
     "output_type": "stream",
     "text": [
      "/tmp/ipykernel_53352/4187742279.py:1: LangChainDeprecationWarning: The class `HuggingFaceEmbeddings` was deprecated in LangChain 0.2.2 and will be removed in 1.0. An updated version of the class exists in the :class:`~langchain-huggingface package and should be used instead. To use it run `pip install -U :class:`~langchain-huggingface` and import as `from :class:`~langchain_huggingface import HuggingFaceEmbeddings``.\n",
      "  embedding_model = HuggingFaceEmbeddings(model_name=\"sentence-transformers/all-MiniLM-L6-v2\")\n"
     ]
    },
    {
     "name": "stdout",
     "output_type": "stream",
     "text": [
      "✅ Embedding model and Qdrant initialized\n"
     ]
    },
    {
     "name": "stderr",
     "output_type": "stream",
     "text": [
      "/tmp/ipykernel_53352/4187742279.py:5: DeprecationWarning: `recreate_collection` method is deprecated and will be removed in the future. Use `collection_exists` to check collection existence and `create_collection` instead.\n",
      "  qdrant.recreate_collection(\n"
     ]
    }
   ],
   "source": [
    "embedding_model = HuggingFaceEmbeddings(model_name=\"sentence-transformers/all-MiniLM-L6-v2\")\n",
    "vector_size = len(embedding_model.embed_query(\"test\"))\n",
    "\n",
    "qdrant = QdrantClient(\":memory:\")\n",
    "qdrant.recreate_collection(\n",
    "    collection_name=\"documents\",\n",
    "    vectors_config={\"size\": vector_size, \"distance\": \"Cosine\"}\n",
    ")\n",
    "print(\"✅ Embedding model and Qdrant initialized\")\n"
   ]
  },
  {
   "cell_type": "code",
   "execution_count": 5,
   "id": "49f44b86",
   "metadata": {},
   "outputs": [],
   "source": [
    "from docling.document_converter import DocumentConverter\n",
    "\n",
    "\n",
    "# document per local path or URL\n",
    "source = \"../pdf/จังหวัดน่าน.pdf\"  \n",
    "\n",
    "converter = DocumentConverter()\n",
    "result = converter.convert(source)\n"
   ]
  },
  {
   "cell_type": "code",
   "execution_count": 6,
   "id": "8a1909c7",
   "metadata": {},
   "outputs": [
    {
     "name": "stdout",
     "output_type": "stream",
     "text": [
      "## จังหวัดน่าน\n",
      "\n",
      "น่าน เป็นจังหวัดหนึ่งในประเทศไทย ตั้งอยู่ทางทิศตะวันออกสุดของภาคเหนือ เป็นที่ตั้ง ของเมืองที่สำคัญในอดีต เช่น เวียงวรนคร (เมืองพลัว) เวียงศีรษะเกษ (เมืองงั่ว) เวียงภูเพียงแช่ แห้ง อีกทั้งยังเป็นแหล่งต้นน้ำของแม่น้ำน่าน\n",
      "\n",
      "ประวัติศาสตร์  มีประวัติความเป็นมาที่เก่าแก่ยาวนาน มีชื่อเรียกในพงศาวดารว่า นันท บุรี เมืองน่านในอดีตเป็นนครรัฐเล็ก ๆ ก่อตัวขึ้นราวกลางพุทธศตวรรษที่ 18 บริเวณที่ราบลุ่ม แม่น้ำน่านและแม่น้ำสาขาในหุบเขาทางตะวันออกของภาคเหนือ\n",
      "\n",
      "## สมัยเมืองล่าง-วรนคร\n",
      "\n",
      "ประวัติศาสตร์เมืองน่านเริ่มปรากฏขึ้นราว พ.ศ. 1825 ภายใต้การนำของพญาภูคาและ นางพญาจำปาผู้เป็นชายา ซึ่งทั้งสองเป็นชาวเมืองเงินยาง ได้เป็นแกนนำพาผู้คนอพยพมาตั้ง ศูนย์การปกครองอยู่ที่เมืองล่าง ต่อมาเพี้ยนเป็นเมืองย่าง (เชื่อกันว่าคือบริเวณริมฝั่งด้านใต้ของ แม่น้ำย่างบริเวณตำบลศิลาเพชร อำเภอปัว เลยไปถึงลำน้ำบั่ว ใกล้ทิวเขาดอยภูคาในเขตบ้าน เสี้ยว บ้านทุ่งฆ้อง บ้านลอมกลาง ตำบลยม อำเภอท่าวังผา) เพราะปรากฏร่องรอยชุมชนใน สภาพที่เป็นคูน้ำ คันดิน และกำแพงเมืองซ้อนกันอยู่ เห็นชัดเจนที่สุดคือบริเวณข้างพระธาตุ จอมพริกบ้านเสี้ยวมีกำแพงเมืองปรากฏอยู่ซึ่งเป็นปราการทิศใต้ และป้อมปราการทิศเหนือ ลักษณะที่ปรากฏเป็นสันกำแพงดินบนยอดดอยม่อนหลวง บ้านลอมกลาง เป็นกำแพงเมืองสูง ถึง 3 ชั้น ในแต่ละชั้นกว้าง 3 เมตร สูง 5 เมตร ขนานไปกับยอดดอยม่อนหลวง ต่อมาพระยาภู คา ได้ขยายอาณาเขตปกครองของตนออกไปให้กว้างขวางยิ่งขึ้น โดยส่งราชบุตรบุญธรรม 2 คนไปสร้างเมืองใหม่ โดยขุนนุ่นผู้พี่ไปสร้างเมืองจันทบุรี (เมืองพระบาง) และขุนฟองผู้น้องสร้าง เมืองวรนครหรือเมืองปัว\n",
      "\n",
      "ภายหลังขุนฟองถึงแก่พิราลัย เจ้าเก้าเถื่อนราชบุตรจึงได้ขึ้นครองเมืองปัวแทน ด้าน พญาภูคาครองเมืองย่างมานานและมีอายุมากขึ้น มีความประสงค์จะให้เจ้าเก้าเถื่อนผู้หลานมา ครองเมืองย่างแทน จึงให้เสนาอำมาตย์ไปเชิญ เจ้าเก้าเถื่อนเกรงใจปู่จึงยอมไปอยู่เมืองย่างและ มอบให้ชายาคือนางพญาแม่ท้าวคำปินดูแลรักษาเมืองปัวแทน เมื่อพญาภูคาถึงแก่พิราลัย เจ้า เก้าเถื่อนจึงครองเมืองย่างแทน ในช่วงที่เมืองปัวว่างจากผู้นำ เนื่องจากเจ้าเก้าเถื่อนไปครอง\n",
      "\n",
      "เมืองย่างแทนปู่นั้น พญางำเมืองเจ้าผู้ครองเมืองพะเยา จึงได้ขยายอิทธิพลเข้าครอบครอง บ้านเมืองในเขตเมืองน่านทั้งหมด นางพญาแม่เท้าคำปินพร้อมด้วยบุตรในครรภ์ได้หลบหนีไป อยู่บ้านห้วยแร้ง จนคลอดได้บุตรชายชื่อว่าเจ้าขุนใส เติบใหญ่ได้เป็นขุนนางรับใช้พญางำเมือง จนเป็นที่โปรดปราน พญางำเมืองจึงสถาปนาให้เป็นเจ้าขุนใสยศ ครองเมืองปราด ภายหลังมี กำลังพลมากขึ้นจึงยกทัพมาต่อสู้จนหลุดพ้นจากอำนาจเมืองพะเยา และได้รับการสถาปนาเป็น พญาผานอง ขึ้นครองเมืองปัวอย่างอิสระระหว่างปี 1865-1894 รวม 30 ปีจึงพิราลัย\n",
      "\n",
      "ในสมัยของพญาการเมือง (กรานเมือง) โอรสของพญาผานอง เมืองปัวได้มีการ ขยายตัวมากขึ้น ตลอดจนมีความสัมพันธ์กับเมืองสุโขทัยอย่างใกล้ชิด พงศาวดารเมืองน่าน กล่าวถึงพญาการเมืองว่า ได้รับเชิญจากเจ้าเมืองสุโขทัย (พระมหาธรรมราชาลิไท) ไปร่วม สร้างวัดหลวงอภัย (วัดอัมพวนาราม) ขากลับเจ้าเมืองสุโขทัย ได้พระราชทานพระธาตุ 7 องค์ พระพิมพ์ทองคำ 20 องค์ พระพิมพ์เงิน 20 องค์ ให้กับพญาการเมืองมาบูชา ณ เมืองปัว ด้วย พญาการเมืองได้ปรึกษาพระมหาเถรธรรมบาลจึงได้ก่อสร้างพระธาตุแช่แห้งขึ้นที่บนภูเพียงแช่ แห้ง พร้อมทั้งได้อพยพผู้คนจากเมืองปัวลงมาสร้างเมืองใหม่ที่บริเวณพระธาตุแช่แห้ง เรียกว่า ภูเพียงแช่แห้งในปี พ.ศ. 1902 โดยมีพระธาตุแช่แห้งเป็นศูนย์กลางเมือง หลังจากพญาการเมือง ถึงแก่พิราลัย โอรสคือพญาผากองขึ้นครองแทน อยู่มาเกิดปัญหาความแห้งแล้ง จึงย้ายเมือง มาสร้างใหม่ที่ริมแม่น้ำน่านด้านตะวันตกบริเวณบ้านห้วยไค้ คือบริเวณที่ตั้งของจังหวัดน่านใน ปัจจุบัน เมื่อปี พ.ศ. 1911[8]\n",
      "\n",
      "ในสมัยเจ้าปู่เข่งครองเมืองระหว่างปี พ.ศ. 1950-1960 ได้สร้างวัดพระธาตุช้างค้ำ วรวิหาร วัดพระธาตุเขาน้อย วัดพญาภู แต่สร้างไม่ทันเสร็จก็ถึงแก่พิราลัยเสียก่อน พญางั่วฬาร ผาสุมผู้เป็นหลานได้สร้างต่อจนแล้วเสร็จและได้สร้างพระพุทธรูปทองคำปางลีลา ปัจจุบันคือ พระพุทธนันทบุรีศรีศากยมุนี ประดิษฐานอยู่ในวิหารวัดพระธาตุช้างค้ำวรวิหาร\n",
      "\n",
      "## สมัยล้านนา\n",
      "\n",
      "ในปี พ.ศ. 1993 พระเจ้าติโลกราชกษัตริย์นครเชียงใหม่ มีความประสงค์จะครอบครอง เมืองน่านและแหล่งเกลือบ่อมาง (เขตตำบลบ่อเกลือใต้ อำเภอบ่อเกลือปัจจุบัน) ที่มีอย่างอุดม สมบูรณ์และหาได้ยากทางภาคเหนือ จึงได้จัดกองทัพเข้ายึดเมืองน่าน พญาอินต๊ะแก่นท้าวไม่ อาจต้านทานได้จึงอพยพหนีไปอาศัยอยู่ที่เมืองเชลียง (ศรีสัชนาลัย) เมืองน่านจึงถูกผนวกเข้าไว้ ในอาณาจักรล้านนาตั้งแต่นั้นมา\n",
      "\n",
      "ตลอดระยะเวลาเกือบ 100 ปีที่เมืองน่านอยู่ในครอบครองของอาณาจักรล้านนา ได้ ค่อย ๆ ซึมซับเอาศิลปวัฒนธรรมของล้านนามาไว้ในวิถีชีวิต โดยเฉพาะการรับเอาศิลปกรรม ทางด้านศาสนา ปรากฏศิลปกรรมแบบล้านนาเข้ามาแทนที่ศิลปกรรมแบบสุโขทัยอย่างชัดเจน เช่น เจดีย์วัดพระธาตุแช่แห้ง เจดีย์วัดสวนตาล (มวลสารจากวัดสวนตาลใช้ทำพระสมเด็จ จิตรลดา) เจดีย์วัดพระธาตุช้างค้ำ แม้จะเหลือส่วนฐานที่มีช้างล้อมรอบซึ่งเป็นลักษณะศิลปะ แบบสุโขทัยอยู่ แต่ส่วนองค์เจดีย์ขึ้นไปถึงส่วนยอดเปลี่ยนเป็นศิลปกรรมแบบล้านนาไปจนหมด สิ้น ในระหว่างปี พ.ศ. 2103-2328 เมืองน่านได้ตกเป็นเมืองขึ้นของพม่าอยู่หลายครั้งและต้อง เป็นเมืองร้างไร้ผู้คนถึง 2 ครา คือ ครั้งแรก ปี พ.ศ. 2247-2249 ครั้งที่ 2 ปี พ.ศ. 2321-2344\n",
      "\n",
      "## สมัยรัตนโกสินทร์\n",
      "\n",
      "ปี พ.ศ. 2331 เจ้าอัตถวรปัญโญ ได้ลงมาเข้าเฝ้าพระบาทสมเด็จพระพุทธยอดฟ้าจุฬา โลกมหาราช เพื่อขอเป็นข้าขอบขัณฑสีมา หลังจากขึ้นเป็นเจ้าผู้ครองนครน่าน เจ้าอัตถวร ปัญโญก็ยังมิได้เข้าไปอยู่ในตัวเมืองน่านเสียทีเดียวเนื่องจากตัวเมืองน่านยังรกร้างอยู่ จึงได้ย้าย ไปอาศัยอยู่ตามที่ต่าง ๆ คือ บ้านตึ๊ดบุญเรือง เมืองงั้ว (ปัจจุบัน คือ บริเวณอำเภอนาน้อย) เมืองพ้อ (ปัจจุบัน คือ บริเวณอำเภอเวียงสา) จนกระทั่งหลังจากได้บูรณะซ่อมแซมตัวเมืองน่าน พร้อมทั้งได้ขอพระบรมราชานุญาตแล้ว จึงกลับเข้ามาอยู่ในตัวเมืองน่านในปี พ.ศ. 2344 ในยุค สมัยกรุงรัตนโกสินทร์ นครน่านมีฐานะเป็นหัวเมืองประเทศราช เจ้าผู้ครองนครน่านในชั้นหลัง ทุกองค์ต่างปฏิบัติหน้าที่ราชการด้วยความเที่ยงธรรม มีความซื่อสัตย์ จงรักภักดีต่อ พระมหากษัตริย์แห่งราชวงศ์จักรี ได้ช่วยราชการบ้านเมืองสำคัญหลายครั้งหลายคราด้วยกัน\n",
      "\n",
      "นอกจากนี้เจ้าผู้ครองนครน่านต่างได้อุปถัมภ์ค้ำจุนและทำนุบำรุงกิจการพระพุทธศาสนาใน นครน่านและหัวเมืองขึ้นต่าง ๆ เป็นสำคัญ ได้สร้างธรรมนิทานชาดก การจารพระไตรปิฎกลง ในคัมภีร์ใบลาน นับเป็นคัมภีร์ได้ 335 คัมภีร์นับเป็นผูกได้ 2 606 ผูก ได้นำไปมอบให้เมืองต่าง , ๆ เช่น นครลำปาง นครลำพูน นครเชียงใหม่ นครแพร่ และนครหลวงพระบาง\n",
      "\n",
      "ในปี พ.ศ. 2446 พระบาทสมเด็จพระจุลจอมเกล้าเจ้าอยู่หัว ทรงพระกรุณาโปรดเกล้าฯ สถาปนาเจ้าสุริยพงษ์ผริตเดชฯ เจ้านครเมืองน่าน เลื่อนยศฐานันดรศักดิ์ขึ้นเป็น พระเจ้านคร เมืองน่าน มีพระนามปรากฏตามสุพรรณปัฏว่า 'พระเจ้าสุริยพงษ์ผริตเดช กุลเชษฐมหันต์ ไชยนันทบุรมหาราชวงศาธิบดี สุจริตจารีราชานุภาวรักษ์ วิบุลยศักดิ์กิตติไพศาล ภูบาลบพิตร์ สถิตย์ณนันทราชวงษ์ พระเจ้านครเมืองน่าน' นับเป็นพระเจ้านครน่านองค์แรกและองค์เดียวใน ประวัติศาสตร์น่าน ภายหลังได้รับการสถาปนาเป็นพระเจ้าน่าน พระเจ้าสุริยพงษ์ผริตเดชฯ เจ้า ผู้ครองนครน่าน องค์ที่ 63 ได้โปรดให้สร้างหอคำ (คุ้มหลวง) ขึ้นแทนหลังเดิมซึ่งสร้างในสมัย ของ เจ้าอนันตวรฤทธิเดชฯ เจ้าผู้ครองนครน่าน องค์ที่ 62 และด้านหน้าหอคำมีข่วงไว้ทำหน้าที่ คล้ายสนามหลวง สำหรับจัดงานพิธีต่าง ๆ ตลอดจนเป็นที่จัดขบวนทัพออกสู้ศึก จัดขบวนนำ เสด็จ หรือขบวนรับแขกบ้านแขกเมืองสำคัญ และในวันที่ 17 สิงหาคม พ.ศ. 2474 เมื่อเจ้า มหาพรหมสุรธาดา เจ้าผู้ครองนครน่าน องค์ที่ 64 ถึงแก่พิราลัย ตำแหน่งเจ้าผู้ครองนครน่าน ก็ถูกยุบเลิกตั้งแต่นั้นมา ส่วนหอคำได้ใช้เป็นศาลากลางจังหวัดน่าน จนปี พ.ศ. 2511 จังหวัด น่านได้มอบหอคำให้กรมศิลปากร ใช้เป็นสถานที่จัดตั้งพิพิธภัณฑสถานแห่งชาติ น่านจนกระทั่ง ปัจจุบัน\n",
      "\n",
      "ในยุคประชาธิปไตย จังหวัดน่านยังมีตำนานการเป็นแหล่งกบดานของสมาชิกพรรค คอมมิวนิสต์แห่งประเทศไทย โดยเฉพาะที่อำเภอทุ่งช้าง ซึ่งเป็นพื้นที่ยุทธศาสตร์สำคัญอีกแห่ง หนึ่ง โดยมีอนุสรณ์สถานวีรกรรมทุ่งช้างเป็นพยานช่วยเตือนความจำให้แก่ชนรุ่นหลัง\n",
      "\n",
      "## ภูมิประเทศ\n",
      "\n",
      "จังหวัดน่าน ตั้งอยู่บริเวณเส้นรุ้งที่ 18 องศา 46 ลิปดา 30 ฟิลิปดาเหนือ เส้นแวงที่ 18 องศา 46 ลิปดา 44 ฟิลิปดาตะวันออก ระดับความสูงของพื้นที่อยู่สูง 2,112 เมตร จาก ระดับน้ำทะเลปานกลาง มีสภาพภูมิประเทศส่วนใหญ่เป็นภูเขาซึ่งวางตัวในแนวเหนือ-ใต้ มี พื้นที่ 11,472.076 ตารางกิโลเมตร หรือ 7,170,045 ไร่ โดยเฉพาะบริเวณชายแดนด้านทิศเหนือ และทิศตะวันออกติดกับสาธารณรัฐประชาธิปไตยประชาชนลาว (สปป.ลาว) ห่างจาก กรุงเทพมหานคร โดยทางรถยนต์ ประมาณ 668 กิโลเมตร มีภูเข้ ในเขตอำเภอบ่อเกลือ เป็น ยอดเขาที่สูงที่สุดในจังหวัด คือมีความสูงถึง 2,079 เมตร[9] และมีดอยภูคา ในเขตอำเภอปัว เป็นยอดเขาที่สำคัญของจังหวัด มีความสูง 1,980 เมตร ส่วนพื้นที่ราบจะอยู่บริเวณตอนกลาง ของจังหวัด และตามลุ่มน้ำต่าง ๆ แหล่งน้ำที่สำคัญของจังหวัดคือแม่น้ำน่าน ซึ่งมีต้นกำเนิดทาง ตอนเหนือของจังหวัด แล้วไหลลงไปยังเขื่อนสิริกิติ์ในจังหวัดอุตรดิตถ์ และบรรจบกับแม่น้ำปิงที่ จังหวัดนครสวรรค์เป็นแม่น้ำเจ้าพระยา นอกจากนี้ยังมีลำน้ำสาขาต่าง ๆ ที่สำคัญ ได้แก่ ลำน้ำ สา ลำน้ำว้า ลำน้ำสมุน ลำน้ำปัว ลำน้ำยาว ลำน้ำย่าง ลำน้ำแหง เป็นต้น มีพื้นที่กว้างใหญ่ พื้นที่เต็มไปด้วยภูเขาสูงสลับซับซ้อน ทั้งยังมีประชากรหลายชาติพันธุ์ นับว่าเป็นดินแดนของ ความหลากหลายอีกแห่งหนึ่งของประเทศ\n",
      "\n",
      "## ลักษณะพื้นที่\n",
      "\n",
      "จังหวัดน่าน มีทิวเขาหลวงพระบางและทิวเขาผีปันน้ำ ซึ่งเป็นทิวเขาหินแกรนิต ที่มี ความสูง 600-1 200 เมตร เหนือระดับน้ำทะเล ทอดผ่านทั่วจังหวัด คิดเป็นพื้นที่ประมาณร้อย , ละ 40 ของพื้นที่ทั้งจังหวัด พื้นที่ของจังหวัดน่านโดยทั่วไป มีสภาพพื้นที่เป็นลูกคลื่น ลอนชันเกิน 30 องศา ประมาณร้อยละ 85 ของพื้นที่จังหวัด ส่วนลูกคลื่นลอนลาด ตามลุ่มน้ำ จะเป็นที่ราบ แคบ ๆ ระหว่างหุบเขาตามแนวยาวของลุ่มน้ำน่าน ลุ่มน้ำสา ลุ่มน้ำว้า ลุ่มน้ำปัว ลุ่มน้ำย่าง และ ลุ่มน้ำกอน\n",
      "\n",
      "## ภูมิอากาศ\n",
      "\n",
      "จังหวัดน่าน มีลักษณะภูมิอากาศแบบทุ่งหญ้าเมืองร้อนแบบ 3 ฤดู คือ ฤดูร้อน ฤดูฝน และฤดูหนาว โดยมีความแตกต่างของแต่ละฤดูอย่างชัดเจน\n",
      "\n",
      "ฤดูร้อน ระหว่างเดือนมีนาคม-พฤษภาคม มีอากาศร้อนถึงร้อนจัด (สถิติอุณหภูมิสูงสุด 44.1 องศาเซลเซียส เมื่อวันที่ 12 เมษายน พ.ศ. 2502)\n",
      "\n",
      "ฤดูฝน ระหว่างเดือนมิถุนายน-ตุลาคม มีฝนตกชุก จากอิทธิพลลมมรสุมตะวันตกเฉียง ใต้ (สถิติปริมาณฝนตกมากที่สุดใน 1 วัน วัดได้ 259.0 มิลลิเมตร ที่อำเภอทุ่งช้าง เมื่อวันที่ 19 สิงหาคม พ.ศ. 2549)\n",
      "\n",
      "ฤดูหนาว ระหว่างเดือนพฤศจิกายน-กุมภาพันธ์ มีอากาศหนาวเย็น โดยเฉพาะพื้นที่ บริเวณเทือกเขาและยอดดอย จากอิทธิพลลมมรสุมตะวันออกเฉียงเหนือ (สถิติอุณหภูมิต่ำสุด 1.0 องศาเซลเซียส เมื่อวันที่ 2 มกราคม พ.ศ. 2517 ที่สถานีอุตุนิยมวิทยา (กลุ่มงานตรวจ อากาศเกษตร) อำเภอเมืองน่าน)\n"
     ]
    }
   ],
   "source": [
    "print(result.document.export_to_markdown())"
   ]
  },
  {
   "cell_type": "code",
   "execution_count": null,
   "id": "87ab292f",
   "metadata": {},
   "outputs": [
    {
     "name": "stderr",
     "output_type": "stream",
     "text": [
      "Created a chunk of size 932, which is longer than the specified 500\n",
      "Created a chunk of size 852, which is longer than the specified 500\n",
      "Created a chunk of size 655, which is longer than the specified 500\n",
      "Created a chunk of size 758, which is longer than the specified 500\n",
      "Created a chunk of size 1096, which is longer than the specified 500\n",
      "Created a chunk of size 1122, which is longer than the specified 500\n"
     ]
    }
   ],
   "source": [
    "from langchain.schema import Document\n",
    "from langchain.text_splitter import CharacterTextSplitter\n",
    "\n",
    "# สมมุติว่าได้ markdown string มา\n",
    "markdown_text = result.document.export_to_markdown() \n",
    "doc = Document(page_content=markdown_text)\n",
    "\n",
    "# แบ่งข้อความ\n",
    "splitter = CharacterTextSplitter(chunk_size=1000, chunk_overlap=200)\n",
    "document_chunks = splitter.split_documents([doc])  "
   ]
  },
  {
   "cell_type": "code",
   "execution_count": 13,
   "id": "6a5dd9e4",
   "metadata": {},
   "outputs": [
    {
     "data": {
      "text/plain": [
       "UpdateResult(operation_id=0, status=<UpdateStatus.COMPLETED: 'completed'>)"
      ]
     },
     "execution_count": 13,
     "metadata": {},
     "output_type": "execute_result"
    }
   ],
   "source": [
    "# Extract text from document chunks\n",
    "texts = [doc.page_content for doc in document_chunks]\n",
    "\n",
    "# Convert texts into vectors\n",
    "vectors = embedding_model.embed_documents(texts)\n",
    "\n",
    "# Upsert data into Qdrant\n",
    "points = [PointStruct(id=i, vector=vectors[i], payload={\"text\": texts[i]}) for i in range(len(texts))]\n",
    "qdrant.upsert(collection_name=\"documents\", points=points)"
   ]
  },
  {
   "cell_type": "code",
   "execution_count": 14,
   "id": "1d296e80",
   "metadata": {},
   "outputs": [],
   "source": [
    "def search_documents(query):\n",
    "    # Convert query to vector\n",
    "    query_vector = embedding_model.embed_query(query)\n",
    "    \n",
    "    # Search Qdrant for similar documents\n",
    "    search_results = qdrant.search(\n",
    "        collection_name=\"documents\",\n",
    "        query_vector=query_vector,\n",
    "        limit=4  # Retrieve top 5 relevant documents\n",
    "    )\n",
    "    \n",
    "    # Check if results are found\n",
    "    if not search_results:\n",
    "        return []  # Return empty if no documents found\n",
    "    \n",
    "    # Extract text from results \n",
    "    return [hit.payload.get(\"text\", \"เอกสารไม่มีข้อความ\") for hit in search_results]"
   ]
  },
  {
   "cell_type": "code",
   "execution_count": null,
   "id": "12b8b7e0",
   "metadata": {},
   "outputs": [],
   "source": [
    "def generate_answer(query):\n",
    "    # Retrieve relevant documents from Qdrant\n",
    "    retrieved_docs = search_documents(query)\n",
    "\n",
    "    # Check if any documents were retrieved\n",
    "    if not retrieved_docs:\n",
    "        return \"ไม่พบข้อมูลที่เกี่ยวข้อง\"  # \"No relevant information found\"\n",
    "\n",
    "    # Create the context for the language model\n",
    "    context = \"\\n\".join([str(doc) for doc in retrieved_docs if isinstance(doc, str)])\n",
    "\n",
    "    # Check if context has content\n",
    "    if not context.strip():\n",
    "        # \"No relevant information found\"\n",
    "        return \"ไม่พบข้อมูลที่เกี่ยวข้อง\"\n",
    "\n",
    "    prompt = f\"ข้อมูลอ้างอิง:\\n{context}\\n\\nคำถาม: {query}\\n\\nคำตอบ:\"\n",
    "\n",
    "    # Initialize Groq API client\n",
    "    groq_client = Groq(api_key=os.getenv(\"GROQ_API_KEY\"))\n",
    "\n",
    "    try:\n",
    "        # Requesting completion from Groq API\n",
    "        response = groq_client.chat.completions.create(\n",
    "            model=\"llama-3.1-8b-instant\", messages=[{\"role\": \"user\", \n",
    "                                                     \"content\": prompt}]\n",
    "        )\n",
    "        return response.choices[0].message.content\n",
    "    except Exception as e:\n",
    "        return f\"เกิดข้อผิดพลาดในการสร้างคำตอบ: {str(e)}\"\n",
    "    # \"Error occurred in generating the answer\""
   ]
  },
  {
   "cell_type": "code",
   "execution_count": 24,
   "id": "fb5ca1f6",
   "metadata": {},
   "outputs": [
    {
     "name": "stderr",
     "output_type": "stream",
     "text": [
      "/tmp/ipykernel_53352/3693313488.py:6: DeprecationWarning: `search` method is deprecated and will be removed in the future. Use `query_points` instead.\n",
      "  search_results = qdrant.search(\n"
     ]
    },
    {
     "name": "stdout",
     "output_type": "stream",
     "text": [
      "จากข้อมูลที่ให้มา มีข้อเท็จจริงที่สำคัญต่อไปนี้:\n",
      "\n",
      "1. เจ้าเก้าเถื่อนราชบุตรขึ้นครองเมืองปัวแทนหลังขุนฟองไป\n",
      "2. พญาภูคาครองเมืองย่างยาวนานและมีอายุมากขึ้น มีความประสงค์ให้เจ้าเก้าเถื่อนมาครองเมืองย่าง\n",
      "3. พระเจ้าติโลกราชกษัตริย์แห่งนครเชียงใหม่ ปี พ.ศ. 1993 จัดกองทัพเข้ายึดเมืองน่านและแหล่งเกลือบ่อมาง.\n",
      "\n",
      "เป็นเท็จจริงที่สำคัญที่สุดของข้อมูลนี้\n"
     ]
    }
   ],
   "source": [
    "# 🔥 Test the question!\n",
    "query = \"มีรายการที่ต้องเทียวอะไรบ้าง\"  \n",
    "answer = generate_answer(query)\n",
    "print(answer)"
   ]
  },
  {
   "cell_type": "code",
   "execution_count": 25,
   "id": "6efeef5b",
   "metadata": {},
   "outputs": [
    {
     "name": "stderr",
     "output_type": "stream",
     "text": [
      "/tmp/ipykernel_53352/3693313488.py:6: DeprecationWarning: `search` method is deprecated and will be removed in the future. Use `query_points` instead.\n",
      "  search_results = qdrant.search(\n"
     ]
    },
    {
     "name": "stdout",
     "output_type": "stream",
     "text": [
      "เอกสารนี้เล่าถึงประวัติของจังหวัดน่านโดยแบ่งออกเป็นสามยุคสมัย: \n",
      "\n",
      "1. สมัยรัตนโกสินทร์ : ภูมิประเทศและตำนานของจังหวัดน่าน รวมถึงการเป็นแหล่งกบดานของสมาชิกพรรคคอมมิวนิสต์แห่งประเทศไทย\n",
      "2. สมัยล้านนา : การครอบครองเมืองน่านด้วยกำลังสมทบของพระเจ้าติโลกราช และการอพยพของพญาอินต๊ะแก่นท้าวออกจากเมืองน่าน\n",
      "\n",
      "โดยรวมแล้ว เอกสารนี้เล่าถึงประวัติและภูมิประเทศของจังหวัดน่าน และการเปลี่ยนแปลงของอำนาจและความมั่งคั่งในประวัติศาสตร์จังหวัดน่าน\n"
     ]
    }
   ],
   "source": [
    "# 🔥 Test the question!\n",
    "query = \"สรุปใจความของเอกสาร\"  \n",
    "answer = generate_answer(query)\n",
    "print(answer)"
   ]
  }
 ],
 "metadata": {
  "kernelspec": {
   "display_name": ".venv",
   "language": "python",
   "name": "python3"
  },
  "language_info": {
   "codemirror_mode": {
    "name": "ipython",
    "version": 3
   },
   "file_extension": ".py",
   "mimetype": "text/x-python",
   "name": "python",
   "nbconvert_exporter": "python",
   "pygments_lexer": "ipython3",
   "version": "3.10.0"
  }
 },
 "nbformat": 4,
 "nbformat_minor": 5
}
