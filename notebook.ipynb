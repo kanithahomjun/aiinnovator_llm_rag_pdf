{
 "cells": [
  {
   "cell_type": "markdown",
   "id": "8d1c7cff",
   "metadata": {},
   "source": [
    "- นำเข้าไลบรารีที่ใช้"
   ]
  },
  {
   "cell_type": "code",
   "execution_count": null,
   "id": "3d59765f",
   "metadata": {},
   "outputs": [],
   "source": [
    "\n",
    "# - Groq: สำหรับการเข้าถึง LLM API\n",
    "# - QdrantClient: สำหรับการใช้งาน Qdrant\n",
    "# - SentenceTransformer: สำหรับการสร้างเวกเตอร์จากข้อความ\n",
    "# - Langchain: สำหรับการสร้าง RetreivalQA chain และการจัดการ vector store\n",
    "# - HuggingFaceEmbeddings: สำหรับการสร้าง embedding จากข้อความ\n",
    "# - PromptTemplate: สำหรับการสร้าง template ของคำถาม\n",
    "\n",
    "import os\n",
    "from groq import Groq\n",
    "from qdrant_client import QdrantClient\n",
    "from qdrant_client.models import PointStruct, VectorParams, Distance\n",
    "from sentence_transformers import SentenceTransformer\n",
    "from langchain.chains import RetrievalQA\n",
    "from langchain.vectorstores import Qdrant\n",
    "from langchain.embeddings import HuggingFaceEmbeddings\n",
    "from langchain.prompts import PromptTemplate\n",
    "from dotenv import load_dotenv"
   ]
  },
  {
   "cell_type": "markdown",
   "id": "a7257b55",
   "metadata": {},
   "source": [
    "- ตั้งค่า API Key"
   ]
  },
  {
   "cell_type": "code",
   "execution_count": 7,
   "id": "17834eb6",
   "metadata": {},
   "outputs": [],
   "source": [
    "# 1. โหลด environment variables จากไฟล์ .env\n",
    "load_dotenv()\n",
    "\n",
    "os.environ[\"GROQ_API_KEY\"] = os.getenv(\"GROQ_API_KEY\")"
   ]
  },
  {
   "cell_type": "markdown",
   "id": "4bed3e89",
   "metadata": {},
   "source": [
    "- เริ่มต้น Qdrant (แบบ In-Memory)"
   ]
  },
  {
   "cell_type": "code",
   "execution_count": 8,
   "id": "d909f992",
   "metadata": {},
   "outputs": [],
   "source": [
    "#เริ่มต้น Qdrant (แบบ In-Memory)\n",
    "qdrant_client = QdrantClient(\":memory:\")  # ใช้ In-Memory"
   ]
  },
  {
   "cell_type": "code",
   "execution_count": 9,
   "id": "e657dc2b",
   "metadata": {},
   "outputs": [
    {
     "name": "stderr",
     "output_type": "stream",
     "text": [
      "C:\\Users\\jeera\\AppData\\Local\\Temp\\ipykernel_40716\\458410475.py:2: DeprecationWarning: `recreate_collection` method is deprecated and will be removed in the future. Use `collection_exists` to check collection existence and `create_collection` instead.\n",
      "  qdrant_client.recreate_collection(\n"
     ]
    },
    {
     "data": {
      "text/plain": [
       "True"
      ]
     },
     "execution_count": 9,
     "metadata": {},
     "output_type": "execute_result"
    }
   ],
   "source": [
    "# สร้าง Collection สำหรับเก็บเวกเตอร์\n",
    "qdrant_client.recreate_collection(\n",
    "    collection_name=\"documents\",\n",
    "\n",
    "    # ใช้ 384-D embedding\n",
    "    vectors_config=VectorParams(size=384, distance=Distance.COSINE)\n",
    ")"
   ]
  },
  {
   "cell_type": "markdown",
   "id": "cad11336",
   "metadata": {},
   "source": [
    "- เตรียมข้อมูลเอกสาร"
   ]
  },
  {
   "cell_type": "code",
   "execution_count": 10,
   "id": "e222a386",
   "metadata": {},
   "outputs": [],
   "source": [
    "# เตรียมข้อมูลเอกสาร\n",
    "\n",
    "documents = [\n",
    "    \"อุทยานแห่งชาติดอยภูคา ที่เที่ยวน่าน อุทยานแห่งชาติดอยภูคา จ.น่าน อุทยานที่เต็มไปด้วยความอุดมสมบูรณ์ทางธรรมชาติและมีอากาศที่บริสุทธิ์ตลอดทั้งปี และที่เป็นไฮไลท์ของดอยภูคาเลยก็คือ ดอกชมพูภูคา ที่จะบานช่วงเดือนกุมภาพันธ์ และยังต้นไม้หายากที่มีที่นี่ที่เดียวในเมืองไทย นอกจากนี้ทางอุทยานฯ ยังมีบ้านพักและพื้นที่สำหรับกางเต็นท์ไว้รองรับนักท่องเที่ยว หน้าหนาวที่จะถึงนี้ ลองหนีมาเที่ยว มาสูดโอโซนให้เต็มปอดและมานอนที่ดอยภูคากันสักคืน รับรองความฟินที่ต้องมาสัมผัสให้ได้สักครั้ง\",\n",
    "    \n",
    "    \"1715 อุทยานแห่งชาติดอยภูคา ที่เที่ยวน่าน จุดชมวิว 1715 เป็นจุดชมวิวระหว่างทางลงไปเมืองปัวเพื่อกลับเข้าเมืองเป็นละทางกับที่เราขึ้นเขาทางโค้งไม่เยอะมากเหมือนตอนขาขึ้นและระยะทางลงเขายังสั้นกว่ามากคนในพื้นที่แนะนำให้ใช้เส้นทางนี้ จุดชมวิว 1715 สวยงามมากขนาดเรามาถึงใกล้จะมึดแล้วเขาสูงสลับกันไปมาเริ่มมีหมอกบางๆ นิดๆ อากาศเริ่มเย็นจัด\",\n",
    "\n",
    "    \"ดอยภูแว : ดอยภูแว ที่เที่ยวน่านธรรมชาติเป็นยอดเขาสูง 1837 เมตรจากระดับน้ำทะเล ในพื้นที่ของอุทยานแห่งชาติดอยภูคา จังหวัดน่านโดยทางเดินช่วงแรกเดินขึ้นจากหน่วย ฯ ระยะทางสั้น ๆ แต่ชันพอสมควร ไปเจอถนนลูกรังไปยังหมู่บ้านปูดู่ 2 กม. เดินผ่านไปท้ายหมู่บ้านเลี้ยวซ้ายขึ้นไปผ่านไร่ข้าวโพด เดินสบาย ๆ ชมวิวเขาทั้งลูกมีแต่ต้นข้าวโพดอีก 2 กม. ผ่านรั้วเข้าเขตป่า จุดนี้ชันสุดๆ ตามต้นไม้มีจะรอยบากบอกทางเป็นระยะ ๆ อีก 2 กม. ถึงลานโล่ง ๆ เป็นจุดกางเต็นท์ มองขึ้นไปเห็นยอดดอย ส่วนตัวใช้เวลา 3 ชั่วโมงทั่วไปใช้เวลาเฉลี่ย 4-5 ชม. ด้านบนไม่มีสิ่งอำนวยความสะดวกใดๆ ไม่มีห้องน้ำ ไม่มีสัญญาณ\",\n",
    "\n",
    "    \"อาหารเช้า&เฉาก๊วยนมสด :วัดพระธาตุเขาน้อย ที่เที่ยวน่านในเมืองโดยตั้งอยู่บนยอด ดอยเขาน้อย ทางด้านตะวันตกของน่าน องค์พระธาตุตั้งอยู่บนยอดดอยเขาน้อย สูงจากระดับน้ำทะเลประมาณ 240 เมตรเลยทีเดียว เป็นเจดีย์ก่ออิฐถือปูนทั้งองค์ งดงามแบบศิลปะพม่าผสมล้านนา นอกจากเราจะได้มาสักการะบูชาพระธาตุคู่บ้านคู่เมืองน่านกันแล้ว ตรงจุดลานปูนนั้น ประดิษฐานพระพุทธรูปองค์ใหญ่ คือ พระพุทธมหาอุตมมงคลนันทบุรีศรีเมืองน่าน และในบริเวณที่ประดิษฐาน พระพุทธมหาอุตมมงคลนันทบุรีศรีเมืองน่าน อีกทั้งยังเป็นจุดชมวิวทะเลหมอก ในยามเช้า ที่เราจะสามารถมองเห็นหมอกปกคลุมไปทั่วบริเวณสวยงามจริงๆ รวมไปถึงการเห็นวิวของเมืองน่านได้ทั้งเมือง โดยมีภูเขาเป็นฉากหลังที่โอบล้อมเมืองอยู่อย่างสวยงามอลังการมากทีเดียว\",\n",
    "\n",
    "    \"บ่อเกลือสินเธาว์ : ที่เที่ยวน่าน บ่อเกลือสินเธาว์ นั้นเรียกได้ว่านอกจากบรรยากาศของสถานที่จะดีแล้ว เหล่าพ่อค้าแม่ค้าน่ารัก พูดจาดีกันทั้งนั้น สามารถเข้าไปถ่ายรูปได้ ที่จอดรถไม่ค่อยมี ต้องจอดตามข้างทางแล้วค่อยเดินมา ของฝากจากที่นี่ก็คงจะเป็นเกลือ เพราะมาบ่อเกลือ มีทั้งเกลือแช่เท้า เกลือสมุนไพร เกลือทำกับข้าว ฯลฯ มีให้เลือกมากมายหลายราคาตามกำลังที่จะซื้อกันเลย\",\n",
    "\n",
    "    \"โรงเรียนชาวนาตำบลศิลาเพชร (Farmer School): ที่เที่ยวน่าน ฟาร์มสเตย์โรงเรียนชาวนา ที่พักใจกลางทุ่งนา ในราคาหลักร้อย แต่บรรยากาศหลักล้าน ที่พักอยู่ในอำเภอปัว จ.น่าน มีทั้งแนวห้องแอร์ และพัดลม แต่ใครที่มาพักช่วงหน้าหนาวบอกเลยว่าอากาศเย็นมาก นอกจากนั้นยังมีมุมถ่ายรูปสวยๆ หลายมุมเลย ทำให้การถ่ายรูปลงโซเชียลหรือเก็บภาพไว้ในความทรงจำ จะมีแต่ความสวยงามจนลืมไม่ลง และอยากจะกลับมาซ้ำอีกแน่นอน\",\n",
    "\n",
    "    \"วัดปรางค์ : ที่เที่ยวน่าน วัดปรางค์ พลาดไม่ได้ หากมาอำเภอปัว ต้องได้ชม และสัมผัส กับ ต้นดิกเดียม ต้นไม้ที่เป็น Unseen Thailand ที่อยู่คู่วัดปรางค์แห่งอำเภอปัวมานานนับร้อยปี มากราบสักการะ พระปรางค์มุณีศรีไตรเขต และ พระธาตุบุญนาค ที่เป็นที่เคารพบูชาของผู้คนในตำบลปัว เป็นอีกหนึ่งที่เที่ยวน่านในเมืองที่สามารถได้ทั้งบุญ และบรรยากาศดี ๆ จนเกิดความสุขไม่ว่าจะทางกายหรือทางใจ\",\n",
    "\n",
    "    \"วัดภูมินทร์ :ที่เที่ยวน่าน วัดภูมินทร์ เป็นวัดอารามหลวงใจกลางเมืองน่าน เป็นวัดที่มีภาพวาดในสมัยโบราณที่สวยงามตามรูปแบบของชาวล้านนา มีภาพของปู่ม่านย่าม่านกับภาพวาดกระซิบรัก ณ น่าน อันมีชื่อเสียงที่ไม่ว่าใครก็ต้องมารับชมด้วยตาของตัวเอง และยังมีพระพุทธรูปองค์ใหญ่ 4 ด้านให้เราได้กราบสักการะ โบสถ์เก่าแก่และสวยงาม เพื่อให้ได้ขอพร สำหรับความเจริญ\",\n",
    "]"
   ]
  },
  {
   "cell_type": "markdown",
   "id": "d16d2810",
   "metadata": {},
   "source": [
    "- แปลงข้อความเป็นเวกเตอร์ และเพิ่มลงใน Qdrant"
   ]
  },
  {
   "cell_type": "code",
   "execution_count": 11,
   "id": "717e80a8",
   "metadata": {},
   "outputs": [],
   "source": [
    "# แปลงข้อความเป็นเวกเตอร์ และเพิ่มลงใน Qdrant\n",
    "embedding_model = SentenceTransformer(\"all-MiniLM-L6-v2\")  # โหลดโมเดลสำหรับทำ Embedding\n",
    "vectors = embedding_model.encode(documents).tolist()  # แปลงข้อความเป็นเวกเตอร์"
   ]
  },
  {
   "cell_type": "code",
   "execution_count": 12,
   "id": "d0d92166",
   "metadata": {},
   "outputs": [
    {
     "data": {
      "text/plain": [
       "UpdateResult(operation_id=0, status=<UpdateStatus.COMPLETED: 'completed'>)"
      ]
     },
     "execution_count": 12,
     "metadata": {},
     "output_type": "execute_result"
    }
   ],
   "source": [
    "# เพิ่มข้อมูลลง Qdrant\n",
    "points = [PointStruct(id=i, vector=vectors[i], payload={\"text\": documents[i]}) for i in range(len(documents))]\n",
    "qdrant_client.upsert(collection_name=\"documents\", points=points)"
   ]
  },
  {
   "cell_type": "markdown",
   "id": "5b61afff",
   "metadata": {},
   "source": [
    "- สร้างฟังก์ชันการค้นหาเอกสาร"
   ]
  },
  {
   "cell_type": "code",
   "execution_count": 13,
   "id": "d501923e",
   "metadata": {},
   "outputs": [],
   "source": [
    "# สร้างฟังก์ชันการค้นหาเอกสาร\n",
    "def search_documents(query):\n",
    "    query_vector = embedding_model.encode([query])[0].tolist()\n",
    "    search_results = qdrant_client.search(\n",
    "        collection_name=\"documents\",\n",
    "        query_vector=query_vector,\n",
    "        # ดึงเอกสารที่เกี่ยวข้อง 5 อันดับแรก\n",
    "        limit=5  \n",
    "    )\n",
    "    return [hit.payload[\"text\"] for hit in search_results]"
   ]
  },
  {
   "cell_type": "markdown",
   "id": "af3261e8",
   "metadata": {},
   "source": [
    "- System prompt"
   ]
  },
  {
   "cell_type": "code",
   "execution_count": 14,
   "id": "1d093fd1",
   "metadata": {},
   "outputs": [],
   "source": [
    "system_prompt = \"\"\"\n",
    "คุณคือ AI chatbot ผู้ช่วยแนะนำสถาน ที่ท่องเที่ยว\n",
    "ให้ตอบ เฉพาะข้อมูลที่อยู่ ในเอกสารเท่านั้น\n",
    "หากผู้ใช้สอบถามสถานที่ที่ไม่อยู่ในจังหวัดน่าน ให้ตอบว่า \n",
    "'ขออภัย สถานนั้นไม่มีข้อมูลอยู่\n",
    "\"\"\""
   ]
  },
  {
   "cell_type": "markdown",
   "id": "885f5d7b",
   "metadata": {},
   "source": [
    "- Temperature"
   ]
  },
  {
   "cell_type": "code",
   "execution_count": 15,
   "id": "bbfce0cf",
   "metadata": {},
   "outputs": [],
   "source": [
    "# 👈 กำหนดระดับความสร้างสรรค์ (0.0 = เป๊ะ, 1.0 = สร้างสรรค์สูง)\n",
    "temperature = 0.7"
   ]
  },
  {
   "cell_type": "code",
   "execution_count": 16,
   "id": "0872f827",
   "metadata": {},
   "outputs": [],
   "source": [
    "# ฟังก์ชันสร้างคำตอบ\n",
    "def generate_answer(query):\n",
    "    retrieved_docs = search_documents(query)\n",
    "    context = \"\\n\".join(retrieved_docs)\n",
    "    full_prompt = f\"{system_prompt}\\n\\nข้อมูลอ้างอิง:\\n{context}\\n\\nคำถาม: {query}\\n\\nคำตอบ:\"\n",
    "\n",
    "    # debug \n",
    "    # print(full_prompt)\n",
    "\n",
    "    groq_client = Groq(api_key=os.getenv(\"GROQ_API_KEY\"))\n",
    "    response = groq_client.chat.completions.create(\n",
    "        # model LLM \n",
    "        model=\"llama-3.1-8b-instant\",\n",
    "        temperature=temperature,\n",
    "        messages=[\n",
    "            {\"role\": \"system\", \"content\": system_prompt},\n",
    "            {\"role\": \"user\", \"content\": full_prompt}\n",
    "        ]\n",
    "    )\n",
    "    return response.choices[0].message.content"
   ]
  },
  {
   "cell_type": "code",
   "execution_count": 17,
   "id": "f813beb1",
   "metadata": {},
   "outputs": [
    {
     "name": "stderr",
     "output_type": "stream",
     "text": [
      "C:\\Users\\jeera\\AppData\\Local\\Temp\\ipykernel_40716\\1114944128.py:4: DeprecationWarning: `search` method is deprecated and will be removed in the future. Use `query_points` instead.\n",
      "  search_results = qdrant_client.search(\n"
     ]
    },
    {
     "name": "stdout",
     "output_type": "stream",
     "text": [
      "คำถาม: ขอรีวิว บ่อเกลือสินเธาว์\n",
      "คำตอบ: บ่อเกลือสินเธาว์ นี่เป็นหนึ่งในสถานที่ท่องเที่ยวที่น่าสนใจในจังหวัดน่าน บ่อเกลือสินเธาว์ มีบรรยากาศที่ดี และมีพ่อค้าแม่ค้าอยู่ที่นั่น พูดจาดี และมีเกลือให้เลือกมากมายหลายราคาตามกำลังที่จะซื้อกันเลย นอกจากนี้ยังมีที่จอดรถที่ไม่ค่อยมี แต่สามารถจอดตามข้างทางได้\n"
     ]
    }
   ],
   "source": [
    "# 🔥 ทดสอบถามคำถาม!\n",
    "query = \"ขอรีวิว บ่อเกลือสินเธาว์\"\n",
    "answer = generate_answer(query)\n",
    "print(\"คำถาม:\", query)\n",
    "print(\"คำตอบ:\", answer)"
   ]
  },
  {
   "cell_type": "code",
   "execution_count": 18,
   "id": "d18a2655",
   "metadata": {},
   "outputs": [
    {
     "name": "stderr",
     "output_type": "stream",
     "text": [
      "C:\\Users\\jeera\\AppData\\Local\\Temp\\ipykernel_40716\\1114944128.py:4: DeprecationWarning: `search` method is deprecated and will be removed in the future. Use `query_points` instead.\n",
      "  search_results = qdrant_client.search(\n"
     ]
    },
    {
     "name": "stdout",
     "output_type": "stream",
     "text": [
      "คำถาม: ขอรีวิว วัดภูมินทร์\n",
      "คำตอบ: วัดภูมินทร์ เป็นวัดอารามหลวงใจกลางเมืองน่าน เป็นวัดที่มีภาพวาดในสมัยโบราณที่สวยงามตามรูปแบบของชาวล้านนา มีภาพของปู่ม่านย่าม่านกับภาพวาดกระซิบรัก ณ น่าน อันมีชื่อเสียงที่ไม่ว่าใครก็ต้องมารับชมด้วยตาของตัวเอง และยังมีพระพุทธรูปองค์ใหญ่ 4 ด้านให้เราได้กราบสักการะ โบสถ์เก่าแก่และสวยงาม เพื่อให้ได้ขอพร สำหรับความเจริญ\n"
     ]
    }
   ],
   "source": [
    "# 🔥 ทดสอบถามคำถาม!\n",
    "query = \"ขอรีวิว วัดภูมินทร์\"\n",
    "answer = generate_answer(query)\n",
    "print(\"คำถาม:\", query)\n",
    "print(\"คำตอบ:\", answer)"
   ]
  },
  {
   "cell_type": "code",
   "execution_count": 19,
   "id": "7e01cf8e",
   "metadata": {},
   "outputs": [
    {
     "name": "stderr",
     "output_type": "stream",
     "text": [
      "C:\\Users\\jeera\\AppData\\Local\\Temp\\ipykernel_40716\\1114944128.py:4: DeprecationWarning: `search` method is deprecated and will be removed in the future. Use `query_points` instead.\n",
      "  search_results = qdrant_client.search(\n"
     ]
    },
    {
     "name": "stdout",
     "output_type": "stream",
     "text": [
      "ข้อมูลที่เกี่ยวข้องกับวัดในจังหวัดน่าน\n",
      "\n",
      "1. วัดปรางค์ - เป็นวัดที่มีต้นดิกเดียมเป็น Unseen Thailand ที่อยู่คู่วัดมานานนับร้อยปี\n",
      "2. วัดภูมินทร์ - เป็นวัดอารามหลวงใจกลางเมืองน่าน มีภาพวาดในสมัยโบราณที่สวยงาม\n",
      "3. วัดพระธาตุเขาน้อย - เป็นวัดที่ตั้งอยู่บนยอดดอยเขาน้อย มีพระพุทธรูปองค์ใหญ่และเจดีย์ก่ออิฐถือปูนทั้งองค์\n"
     ]
    }
   ],
   "source": [
    "# 🔥 ทดสอบถามคำถาม!\n",
    "query = \"ขอรีวิววัดใน จังหวัดน่าน มีวัดอะไรบ้าง\"\n",
    "answer = generate_answer(query)\n",
    "print(answer)"
   ]
  },
  {
   "cell_type": "markdown",
   "id": "2b5172fb",
   "metadata": {},
   "source": [
    "- ตัวอย่าง Chatbot RAG"
   ]
  },
  {
   "cell_type": "code",
   "execution_count": 20,
   "id": "0afb38e9",
   "metadata": {},
   "outputs": [
    {
     "name": "stdout",
     "output_type": "stream",
     "text": [
      "สวัสดี! ฉันคือ Chatbot ที่ช่วยตอบคำถามเกี่ยวกับจังหวัดน่าน พิมพ์ 'ออก' เพื่อจบการสนทนา\n"
     ]
    },
    {
     "name": "stderr",
     "output_type": "stream",
     "text": [
      "C:\\Users\\jeera\\AppData\\Local\\Temp\\ipykernel_40716\\1114944128.py:4: DeprecationWarning: `search` method is deprecated and will be removed in the future. Use `query_points` instead.\n",
      "  search_results = qdrant_client.search(\n"
     ]
    },
    {
     "name": "stdout",
     "output_type": "stream",
     "text": [
      "Bot: ขออภัย ฉันไม่พบคำถาม\n",
      "Bot: ข้อมูลที่เกี่ยวข้องกับสถานที่ท่องเที่ยวในจังหวัดน่านมีดังนี้:\n",
      "\n",
      "1. วัดพระธาตุเขาน้อย\n",
      "2. บ่อเกลือสินเธาว์\n",
      "3. วัดปรางค์\n",
      "4. อุทยานแห่งชาติดอยภูคา\n",
      "5. วัดภูมินทร์\n",
      "\n",
      "หากคุณต้องการทราบข้อมูลเพิ่มเติมเกี่ยวกับสถานที่เหล่านี้หรือสอบถามสถานที่ที่น่าสนใจในจังหวัดน่าน คุณสามารถถามได้เลย!\n",
      "Bot: มี 5 สถานที่ท่องเที่ยวในจังหวัดน่าน ดังนี้\n",
      "\n",
      "1. วัดพระธาตุเขาน้อย\n",
      "2. บ่อเกลือสินเธาว์\n",
      "3. วัดปรางค์\n",
      "4. อุทยานแห่งชาติดอยภูคา\n",
      "5. วัดภูมินทร์\n",
      "Bot: สวัสดีครับ! ฉันยินดีที่จะช่วยแนะนำสถานที่ท่องเที่ยวในจังหวัดน่านให้คุณครับ\n",
      "Bot: ลาก่อน!\n"
     ]
    }
   ],
   "source": [
    "# ตัวอย่าง Chatbot RAG\n",
    "def chatbot():\n",
    "    print(\"สวัสดี! ฉันคือ Chatbot ที่ช่วยตอบคำถามเกี่ยวกับจังหวัดน่าน พิมพ์ 'ออก' เพื่อจบการสนทนา\")\n",
    "    while True:\n",
    "        query = input(\"คุณ: \")\n",
    "        if query.lower() in [\"ออก\", \"exit\", \"bye\"]:\n",
    "            print(\"Bot: ลาก่อน!\")\n",
    "            break\n",
    "        answer = generate_answer(query)\n",
    "        print(\"Bot:\", answer)\n",
    "\n",
    "# เรียกใช้ Chatbot\n",
    "chatbot()"
   ]
  }
 ],
 "metadata": {
  "kernelspec": {
   "display_name": ".llm_rag",
   "language": "python",
   "name": "python3"
  },
  "language_info": {
   "codemirror_mode": {
    "name": "ipython",
    "version": 3
   },
   "file_extension": ".py",
   "mimetype": "text/x-python",
   "name": "python",
   "nbconvert_exporter": "python",
   "pygments_lexer": "ipython3",
   "version": "3.13.3"
  }
 },
 "nbformat": 4,
 "nbformat_minor": 5
}
